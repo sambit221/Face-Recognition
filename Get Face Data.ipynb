{
 "cells": [
  {
   "cell_type": "code",
   "execution_count": 1,
   "id": "73e91506",
   "metadata": {},
   "outputs": [],
   "source": [
    "# !pip3 install opencv-python-headless==4.1.2.30 --user\n",
    "# !pip uninstall opencv-python-headless"
   ]
  },
  {
   "cell_type": "code",
   "execution_count": 4,
   "id": "12e7f345",
   "metadata": {},
   "outputs": [],
   "source": [
    "import cv2\n",
    "import numpy as np"
   ]
  },
  {
   "cell_type": "code",
   "execution_count": 10,
   "id": "87709b5d",
   "metadata": {},
   "outputs": [],
   "source": [
    "cap = cv2.VideoCapture(0)\n",
    "path=\"C:\\\\Users\\\\sambi\\\\AppData\\\\Local\\\\Programs\\\\Python\\\\Python38\\\\Lib\\\\site-packages\\\\cv2\\\\data\\\\haarcascade_frontalface_alt.xml\"\n",
    "face_cascade = cv2.CascadeClassifier(path)\n",
    "face_data= []\n",
    "skip = 0\n",
    "face_section = np.zeros((100,100),dtype=\"uint8\")\n",
    "dirpath= \"C:\\\\Users\\\\sambi\\\\Desktop\\\\sem 6\\\\Face Recognition using KNN\\\\Face Data\""
   ]
  },
  {
   "cell_type": "code",
   "execution_count": 11,
   "id": "a6c42eb9",
   "metadata": {},
   "outputs": [
    {
     "name": "stdout",
     "output_type": "stream",
     "text": [
      "Enter your name:sambit\n"
     ]
    }
   ],
   "source": [
    "name = input(\"Enter your name:\")\n",
    "while True:\n",
    "    ret,frame = cap.read()\n",
    "    if ret==False:\n",
    "        continue\n",
    "    gray_frame = cv2.cvtColor(frame, cv2.COLOR_BGR2GRAY)\n",
    "    faces = face_cascade.detectMultiScale(gray_frame, 1.3,5)\n",
    "    faces = sorted(faces,key=lambda f:f[2]*f[3])\n",
    "    for face in faces[-1:]:\n",
    "        x,y,w,h =face\n",
    "        face_section = gray_frame[y:y+h,x:x+w]\n",
    "        face_section = cv2.resize(face_section,(100,100))\n",
    "        cv2.putText(frame,name,(x,y-30),cv2.FONT_HERSHEY_SIMPLEX, 1,(255,0,0),2,cv2.LINE_AA)\n",
    "        cv2.rectangle(frame, (x,y),(x+w,y+h),(0,255,0),10)\n",
    "        \n",
    "    cv2.imshow(\"Camera\",frame)\n",
    "    if skip %10==0:\n",
    "        face_data.append(face_section)\n",
    "    skip+=1\n",
    "    key_pressed = cv2.waitKey(1)  & 0xFF\n",
    "    if key_pressed == ord('q'):\n",
    "        break\n",
    "face_data = np.asarray(face_data)\n",
    "face_data = face_data.reshape((face_data.shape[0],-1))\n",
    "np.save(dirpath+'\\\\'+name+'.npy',face_data)\n",
    "cap.release()\n",
    "cv2.destroyAllWindows()"
   ]
  },
  {
   "cell_type": "code",
   "execution_count": null,
   "id": "8bf29873",
   "metadata": {},
   "outputs": [],
   "source": []
  }
 ],
 "metadata": {
  "kernelspec": {
   "display_name": "Python 3",
   "language": "python",
   "name": "python3"
  },
  "language_info": {
   "codemirror_mode": {
    "name": "ipython",
    "version": 3
   },
   "file_extension": ".py",
   "mimetype": "text/x-python",
   "name": "python",
   "nbconvert_exporter": "python",
   "pygments_lexer": "ipython3",
   "version": "3.8.7"
  }
 },
 "nbformat": 4,
 "nbformat_minor": 5
}
