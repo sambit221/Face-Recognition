{
 "cells": [
  {
   "cell_type": "code",
   "execution_count": 2,
   "id": "bd1b5af2",
   "metadata": {},
   "outputs": [],
   "source": [
    "import os\n",
    "import cv2\n",
    "import numpy as np"
   ]
  },
  {
   "cell_type": "code",
   "execution_count": 5,
   "id": "6309cce5",
   "metadata": {},
   "outputs": [],
   "source": [
    "def distance(x,X):\n",
    "    return np.sqrt(np.sum((x-X)**2))\n",
    "\n",
    "def KNN(X,Y,x,K=5):\n",
    "    m = X.shape[0]\n",
    "    x = x.reshape((10000,))\n",
    "    val = []\n",
    "    for i in range(m):\n",
    "        xi = X[i]\n",
    "        xi = xi.reshape((10000,))\n",
    "        dist = distance(x,xi)\n",
    "        val.append((dist,Y[i]))\n",
    "    val = sorted(val,key = lambda x:x[0])[:K]\n",
    "    val = np.asarray(val)\n",
    "    new_vals = np.unique(val[:,1],return_counts=True)\n",
    "    index = new_vals[1].argmax()\n",
    "    output = new_vals[0][index]\n",
    "    return output"
   ]
  },
  {
   "cell_type": "code",
   "execution_count": 8,
   "id": "a85932a6",
   "metadata": {},
   "outputs": [
    {
     "name": "stdout",
     "output_type": "stream",
     "text": [
      "(71, 10000)\n"
     ]
    }
   ],
   "source": [
    "cap = cv2.VideoCapture(0)\n",
    "path=\"C:\\\\Users\\\\sambi\\\\AppData\\\\Local\\\\Programs\\\\Python\\\\Python38\\\\Lib\\\\site-packages\\\\cv2\\\\data\\\\haarcascade_frontalface_alt.xml\"\n",
    "dirpath= \"C:\\\\Users\\\\sambi\\\\Desktop\\\\sem 6\\\\Face Recognition using KNN\\\\Face Data\"\n",
    "face_data= []\n",
    "labels = []\n",
    "names = {}\n",
    "class_id = 0\n",
    "face_cascade = cv2.CascadeClassifier(path)\n",
    "\n",
    "face_section = np.zeros((100,100),dtype=\"uint8\")\n",
    "for file in os.listdir(\"C:\\\\Users\\\\sambi\\\\Desktop\\\\sem 6\\\\Face Recognition using KNN\\\\Face Data\"):\n",
    "    if file.endswith(\".npy\"):\n",
    "        data_item = np.load(dirpath+\"\\\\\"+file)\n",
    "        names[class_id] = file[:-4]\n",
    "        face_data.append(data_item)\n",
    "        target = class_id*np.ones((data_item.shape[0],))\n",
    "        class_id +=1\n",
    "        labels.append(target)\n",
    "print(np.concatenate(face_data,axis=0).shape)\n",
    "face_dataset = np.concatenate(face_data,axis=0)\n",
    "face_labels = np.concatenate(labels,axis=0).reshape((-1,1))\n",
    "\n",
    "while True:\n",
    "    ret,frame = cap.read()\n",
    "    gray_frame = cv2.cvtColor(frame, cv2.COLOR_BGR2GRAY)\n",
    "    if ret==False:\n",
    "        continue\n",
    "    faces = face_cascade.detectMultiScale(gray_frame, 1.3, 5)\n",
    "    faces = sorted(faces,key=lambda f:f[2]*f[3])\n",
    "    for face in faces[-1:]:\n",
    "        x,y,w,h =face\n",
    "        face_section = gray_frame[y:y+h,x:x+w]\n",
    "        face_section = cv2.resize(face_section,(100,100))\n",
    "        \n",
    "        # ml algo\n",
    "        pred = KNN(face_dataset,face_labels,face_section)\n",
    "        pred_name = names[int(pred)]\n",
    "        cv2.putText(frame,pred_name,(x,y-30),cv2.FONT_HERSHEY_SIMPLEX, 1,(255,0,0),2,cv2.LINE_AA)\n",
    "        cv2.rectangle(frame, (x,y),(x+w,y+h),(0,255,0),10)\n",
    "        \n",
    "    cv2.imshow(\"Camera\",frame)\n",
    "    key_pressed = cv2.waitKey(1) & 0xFF\n",
    "    if key_pressed == ord('q'):\n",
    "        break\n",
    "cap.release()\n",
    "cv2.destroyAllWindows()"
   ]
  },
  {
   "cell_type": "code",
   "execution_count": null,
   "id": "6500700f",
   "metadata": {},
   "outputs": [],
   "source": []
  }
 ],
 "metadata": {
  "kernelspec": {
   "display_name": "Python 3",
   "language": "python",
   "name": "python3"
  },
  "language_info": {
   "codemirror_mode": {
    "name": "ipython",
    "version": 3
   },
   "file_extension": ".py",
   "mimetype": "text/x-python",
   "name": "python",
   "nbconvert_exporter": "python",
   "pygments_lexer": "ipython3",
   "version": "3.8.7"
  }
 },
 "nbformat": 4,
 "nbformat_minor": 5
}
